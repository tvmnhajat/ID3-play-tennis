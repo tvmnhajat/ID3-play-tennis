{
  "nbformat": 4,
  "nbformat_minor": 0,
  "metadata": {
    "colab": {
      "provenance": [],
      "authorship_tag": "ABX9TyO5t/1ICOZgG135oIvQljSu",
      "include_colab_link": true
    },
    "kernelspec": {
      "name": "python3",
      "display_name": "Python 3"
    },
    "language_info": {
      "name": "python"
    }
  },
  "cells": [
    {
      "cell_type": "markdown",
      "metadata": {
        "id": "view-in-github",
        "colab_type": "text"
      },
      "source": [
        "<a href=\"https://colab.research.google.com/github/tvmnhajat/ID3-play-tennis/blob/main/ID3_play_tennis.ipynb\" target=\"_parent\"><img src=\"https://colab.research.google.com/assets/colab-badge.svg\" alt=\"Open In Colab\"/></a>"
      ]
    },
    {
      "cell_type": "code",
      "source": [
        "import numpy as np\n",
        "import pandas as pd"
      ],
      "metadata": {
        "id": "Xbfg35MSKAjs"
      },
      "execution_count": 8,
      "outputs": []
    },
    {
      "cell_type": "code",
      "source": [
        "class Node:\n",
        "\n",
        "    def __init__(self, attribute, threshold):\n",
        "        self.attribute = attribute\n",
        "        self.threshold = threshold\n",
        "        self.frame = None\n",
        "        self.children = []\n",
        "        self.leaf = False\n",
        "        self.label = None\n",
        "\n",
        "    def add_frame(self, frame):\n",
        "        self.frame = frame"
      ],
      "metadata": {
        "id": "7uHJ4ZoCJ0Lf"
      },
      "execution_count": 9,
      "outputs": []
    },
    {
      "cell_type": "code",
      "source": [
        "def entropy(data: pd.DataFrame, label):\n",
        "    all = data[label].count()\n",
        "    negative = data[data[label] == 0][label].count()\n",
        "    positive = all - negative\n",
        "    negative = negative + 0.00000001\n",
        "    positive = positive + 0.00000001\n",
        "    all = all + 0.00000001\n",
        "    return -((negative/all * np.log2(negative/all)) + (positive/all * np.log2(positive/all)))"
      ],
      "metadata": {
        "id": "T_hFM_oPJ8-Z"
      },
      "execution_count": 10,
      "outputs": []
    },
    {
      "cell_type": "code",
      "source": [
        "def gain(data: pd.DataFrame, label):\n",
        "    list_features = data.nunique()\n",
        "    features = list_features.keys()\n",
        "    ret = {}\n",
        "\n",
        "    curr_entropy = entropy(data, label)\n",
        "\n",
        "    for i in features:\n",
        "        if i == label: break\n",
        "        feature_count = data[i].value_counts()\n",
        "        feature_count = feature_count / feature_count.values.sum()\n",
        "        a = [data[data[i] == j] for j in feature_count.keys()]\n",
        "        temporary_entropy_i = np.array([entropy(a_item, label) for a_item in a])\n",
        "        ret[i] = (curr_entropy - (np.array(feature_count.values) * temporary_entropy_i).sum())\n",
        "\n",
        "    return ret"
      ],
      "metadata": {
        "id": "Gb1d8WK6J_sT"
      },
      "execution_count": 11,
      "outputs": []
    },
    {
      "cell_type": "code",
      "source": [
        "def decision_tree_algorithm(root, data: pd.DataFrame, label):\n",
        "    '''\n",
        "    Với root là nút gốc (tức nút đang được phân chia),\n",
        "    I là tập các đặc trưng,\n",
        "    O là tập nhãn\n",
        "    T là tập huấn luyện\n",
        "    '''\n",
        "    I = data.columns\n",
        "    O = [1, 0]\n",
        "\n",
        "    if (len(data) == 0): # T trống, trả về nút có kết quả thất bại\n",
        "        root.label = \"Failure\"\n",
        "        return root\n",
        "\n",
        "    elif (len(set(data[label])) == 1):\n",
        "        root.frame = data\n",
        "        root.leaf = True\n",
        "        root.label = data[label][0]\n",
        "        return root\n",
        "\n",
        "    elif (data.columns < 2):\n",
        "        root.leaf = True\n",
        "        root.label = data[\"Play Tennis\"].value_counts().idxmax()\n",
        "        return root\n",
        "\n",
        "    else:\n",
        "\n",
        "        tmp_gain = gain(data, label)\n",
        "        max_gain_attr = max(tmp_gain, key = tmp_gain.get)"
      ],
      "metadata": {
        "id": "KURAgzRqKMHL"
      },
      "execution_count": 12,
      "outputs": []
    }
  ]
}